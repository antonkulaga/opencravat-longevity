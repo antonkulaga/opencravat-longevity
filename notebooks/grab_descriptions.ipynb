{
 "cells": [
  {
   "cell_type": "code",
   "execution_count": 21,
   "id": "05fc4ece-f175-48d8-aac6-55045faff2ec",
   "metadata": {},
   "outputs": [],
   "source": [
    "import pandas as pd\n",
    "import re\n",
    "from pathlib import Path\n",
    "from urllib.request import urlopen\n",
    "from tqdm import outputtqdm\n",
    "import csv"
   ]
  },
  {
   "cell_type": "code",
   "execution_count": 2,
   "id": "3237ec20-096a-40df-8dcd-6f972e1a1385",
   "metadata": {},
   "outputs": [],
   "source": [
    "debug_local = True#False\n",
    "local = Path(\"..\").resolve()\n",
    "data  = local / \"data\"\n",
    "input = data / \"input\"\n",
    "output = data / \"output\""
   ]
  },
  {
   "cell_type": "code",
   "execution_count": 3,
   "id": "a2e1da1b-e5a1-4a1e-9c50-55cff6ff97d7",
   "metadata": {},
   "outputs": [
    {
     "name": "stdout",
     "output_type": "stream",
     "text": [
      "Dimension: (550, 7)\n"
     ]
    },
    {
     "data": {
      "text/html": [
       "<div>\n",
       "<style scoped>\n",
       "    .dataframe tbody tr th:only-of-type {\n",
       "        vertical-align: middle;\n",
       "    }\n",
       "\n",
       "    .dataframe tbody tr th {\n",
       "        vertical-align: top;\n",
       "    }\n",
       "\n",
       "    .dataframe thead th {\n",
       "        text-align: right;\n",
       "    }\n",
       "</style>\n",
       "<table border=\"1\" class=\"dataframe\">\n",
       "  <thead>\n",
       "    <tr style=\"text-align: right;\">\n",
       "      <th></th>\n",
       "      <th>id</th>\n",
       "      <th>Association</th>\n",
       "      <th>Population</th>\n",
       "      <th>Variant(s)</th>\n",
       "      <th>Gene(s)</th>\n",
       "      <th>PubMed</th>\n",
       "      <th>Unnamed: 6</th>\n",
       "    </tr>\n",
       "  </thead>\n",
       "  <tbody>\n",
       "    <tr>\n",
       "      <th>0</th>\n",
       "      <td>1</td>\n",
       "      <td>non-significant</td>\n",
       "      <td>Dutch</td>\n",
       "      <td>HLA-B40</td>\n",
       "      <td>HLA-B</td>\n",
       "      <td>1859103</td>\n",
       "      <td>NaN</td>\n",
       "    </tr>\n",
       "    <tr>\n",
       "      <th>1</th>\n",
       "      <td>2</td>\n",
       "      <td>non-significant</td>\n",
       "      <td>Dutch</td>\n",
       "      <td>HLA-DRB5</td>\n",
       "      <td>HLA-DRB5</td>\n",
       "      <td>1859103</td>\n",
       "      <td>NaN</td>\n",
       "    </tr>\n",
       "    <tr>\n",
       "      <th>2</th>\n",
       "      <td>3</td>\n",
       "      <td>non-significant</td>\n",
       "      <td>Finnish</td>\n",
       "      <td>APOB</td>\n",
       "      <td>APOB</td>\n",
       "      <td>8018664</td>\n",
       "      <td>NaN</td>\n",
       "    </tr>\n",
       "    <tr>\n",
       "      <th>3</th>\n",
       "      <td>4</td>\n",
       "      <td>significant</td>\n",
       "      <td>Finnish</td>\n",
       "      <td>APOC3</td>\n",
       "      <td>APOC3</td>\n",
       "      <td>8018664</td>\n",
       "      <td>NaN</td>\n",
       "    </tr>\n",
       "    <tr>\n",
       "      <th>4</th>\n",
       "      <td>5</td>\n",
       "      <td>significant</td>\n",
       "      <td>Finnish</td>\n",
       "      <td>E2/E3/E4</td>\n",
       "      <td>APOE</td>\n",
       "      <td>8018664</td>\n",
       "      <td>NaN</td>\n",
       "    </tr>\n",
       "  </tbody>\n",
       "</table>\n",
       "</div>"
      ],
      "text/plain": [
       "  id      Association Population Variant(s)   Gene(s)   PubMed  Unnamed: 6\n",
       "0  1  non-significant      Dutch    HLA-B40     HLA-B  1859103         NaN\n",
       "1  2  non-significant      Dutch   HLA-DRB5  HLA-DRB5  1859103         NaN\n",
       "2  3  non-significant    Finnish       APOB      APOB  8018664         NaN\n",
       "3  4      significant    Finnish      APOC3     APOC3  8018664         NaN\n",
       "4  5      significant    Finnish   E2/E3/E4      APOE  8018664         NaN"
      ]
     },
     "execution_count": 3,
     "metadata": {},
     "output_type": "execute_result"
    }
   ],
   "source": [
    "# read original data into dataFrame\n",
    "inputname=Path(input / \"longevity_genes_original.csv\").resolve()\n",
    "\n",
    "df = pd.read_csv(inputname)\n",
    "\n",
    "print(\"Dimension:\", df.shape)\n",
    "df.head()"
   ]
  },
  {
   "cell_type": "markdown",
   "id": "a8f6f207-86df-4b6f-a96e-e7816e6cec59",
   "metadata": {},
   "source": [
    "### Data grabbing from site"
   ]
  },
  {
   "cell_type": "code",
   "execution_count": 4,
   "id": "ab0bae01-07ce-4edb-b9d8-a14e8396fdc4",
   "metadata": {},
   "outputs": [],
   "source": [
    "ids = df['id'].tolist() #list of Ids\n",
    "# use dictionary instead of a list to sanity check for duplicates and ensure correct order\n",
    "st_des = {} # Study Design column, \n",
    "concl = {} # Conclusions column\n",
    "\n",
    "qurl = \"https://genomics.senescence.info/longevity/entry.php?id=\"\n",
    "std_pattern = re.compile('<dt>Study Design<\\/dt>\\s+<dd>(.*?)<\\/dd>',re.DOTALL) \n",
    "concl_pattern = re.compile('<dt>Conclusions<\\/dt>\\s+<dd>(.*?)<\\/dd>',re.DOTALL)"
   ]
  },
  {
   "cell_type": "code",
   "execution_count": 5,
   "id": "ae1945d1-01f2-4fd0-843e-5898556dd10b",
   "metadata": {},
   "outputs": [
    {
     "name": "stderr",
     "output_type": "stream",
     "text": [
      "100%|█████████████████████████████████████████████████████████████████████████████████████████████████████████████████████████████████████████████████████████████████████████████████████████████████████████████████████| 550/550 [07:57<00:00,  1.15it/s]\n"
     ]
    }
   ],
   "source": [
    "for id in tqdm(ids):\n",
    "    page=urlopen(qurl+id)\n",
    "    encoding=page.headers.get_content_charset()\n",
    "    if encoding is None:\n",
    "        encoding='utf-8'\n",
    "    content=page.read().decode() #html \n",
    "    st_des[id] = re.search(std_pattern, content).group(1).strip()\n",
    "    concl[id] = re.search(concl_pattern, content).group(1).strip()\n",
    "    "
   ]
  },
  {
   "cell_type": "code",
   "execution_count": 10,
   "id": "86a29866-c8bf-42b6-9cf3-608f70f8d7c4",
   "metadata": {},
   "outputs": [
    {
     "data": {
      "text/html": [
       "<div>\n",
       "<style scoped>\n",
       "    .dataframe tbody tr th:only-of-type {\n",
       "        vertical-align: middle;\n",
       "    }\n",
       "\n",
       "    .dataframe tbody tr th {\n",
       "        vertical-align: top;\n",
       "    }\n",
       "\n",
       "    .dataframe thead th {\n",
       "        text-align: right;\n",
       "    }\n",
       "</style>\n",
       "<table border=\"1\" class=\"dataframe\">\n",
       "  <thead>\n",
       "    <tr style=\"text-align: right;\">\n",
       "      <th></th>\n",
       "      <th>id</th>\n",
       "    </tr>\n",
       "  </thead>\n",
       "  <tbody>\n",
       "    <tr>\n",
       "      <th>0</th>\n",
       "      <td>1</td>\n",
       "    </tr>\n",
       "    <tr>\n",
       "      <th>1</th>\n",
       "      <td>2</td>\n",
       "    </tr>\n",
       "    <tr>\n",
       "      <th>2</th>\n",
       "      <td>3</td>\n",
       "    </tr>\n",
       "    <tr>\n",
       "      <th>3</th>\n",
       "      <td>4</td>\n",
       "    </tr>\n",
       "    <tr>\n",
       "      <th>4</th>\n",
       "      <td>5</td>\n",
       "    </tr>\n",
       "  </tbody>\n",
       "</table>\n",
       "</div>"
      ],
      "text/plain": [
       "  id\n",
       "0  1\n",
       "1  2\n",
       "2  3\n",
       "3  4\n",
       "4  5"
      ]
     },
     "execution_count": 10,
     "metadata": {},
     "output_type": "execute_result"
    }
   ],
   "source": [
    "#output dataframe\n",
    "odf = pd.DataFrame({'id': df['id']})\n",
    "odf.head()"
   ]
  },
  {
   "cell_type": "code",
   "execution_count": 18,
   "id": "7b132e4d-2c56-4f52-81dd-fd8364ff2607",
   "metadata": {},
   "outputs": [
    {
     "data": {
      "text/html": [
       "<div>\n",
       "<style scoped>\n",
       "    .dataframe tbody tr th:only-of-type {\n",
       "        vertical-align: middle;\n",
       "    }\n",
       "\n",
       "    .dataframe tbody tr th {\n",
       "        vertical-align: top;\n",
       "    }\n",
       "\n",
       "    .dataframe thead th {\n",
       "        text-align: right;\n",
       "    }\n",
       "</style>\n",
       "<table border=\"1\" class=\"dataframe\">\n",
       "  <thead>\n",
       "    <tr style=\"text-align: right;\">\n",
       "      <th></th>\n",
       "      <th>id</th>\n",
       "      <th>Study Design</th>\n",
       "      <th>Conclusions</th>\n",
       "    </tr>\n",
       "  </thead>\n",
       "  <tbody>\n",
       "    <tr>\n",
       "      <th>0</th>\n",
       "      <td>1</td>\n",
       "      <td>964 inhabitants aged 85 years and over and 244...</td>\n",
       "      <td>Without correcting for multiple testing, HLA-D...</td>\n",
       "    </tr>\n",
       "    <tr>\n",
       "      <th>1</th>\n",
       "      <td>2</td>\n",
       "      <td>The apolipoprotein B Xba I polymorphism was ex...</td>\n",
       "      <td>The frequencies of the Xba I alleles among the...</td>\n",
       "    </tr>\n",
       "    <tr>\n",
       "      <th>2</th>\n",
       "      <td>3</td>\n",
       "      <td>964 inhabitants aged 85 years and over and 244...</td>\n",
       "      <td>Without correcting for multiple testing, HLA-B...</td>\n",
       "    </tr>\n",
       "    <tr>\n",
       "      <th>3</th>\n",
       "      <td>4</td>\n",
       "      <td>The Sst I polymorphism was examined in 179 Fin...</td>\n",
       "      <td>The S2 allele (Sst I restriction site present)...</td>\n",
       "    </tr>\n",
       "    <tr>\n",
       "      <th>4</th>\n",
       "      <td>5</td>\n",
       "      <td>The common polymorphism of apolipoprotein E (E...</td>\n",
       "      <td>The frequency of the E2 allele was higher and ...</td>\n",
       "    </tr>\n",
       "  </tbody>\n",
       "</table>\n",
       "</div>"
      ],
      "text/plain": [
       "  id                                       Study Design  \\\n",
       "0  1  964 inhabitants aged 85 years and over and 244...   \n",
       "1  2  The apolipoprotein B Xba I polymorphism was ex...   \n",
       "2  3  964 inhabitants aged 85 years and over and 244...   \n",
       "3  4  The Sst I polymorphism was examined in 179 Fin...   \n",
       "4  5  The common polymorphism of apolipoprotein E (E...   \n",
       "\n",
       "                                         Conclusions  \n",
       "0  Without correcting for multiple testing, HLA-D...  \n",
       "1  The frequencies of the Xba I alleles among the...  \n",
       "2  Without correcting for multiple testing, HLA-B...  \n",
       "3  The S2 allele (Sst I restriction site present)...  \n",
       "4  The frequency of the E2 allele was higher and ...  "
      ]
     },
     "execution_count": 18,
     "metadata": {},
     "output_type": "execute_result"
    }
   ],
   "source": [
    "#add descritions\n",
    "odf['Study Design'] = odf['id'].map(st_des)\n",
    "odf['Study Design'].str.strip()\n",
    "odf.head()"
   ]
  },
  {
   "cell_type": "code",
   "execution_count": 19,
   "id": "1f529013-ea6e-447d-b255-a6e6017d7c63",
   "metadata": {},
   "outputs": [
    {
     "data": {
      "text/html": [
       "<div>\n",
       "<style scoped>\n",
       "    .dataframe tbody tr th:only-of-type {\n",
       "        vertical-align: middle;\n",
       "    }\n",
       "\n",
       "    .dataframe tbody tr th {\n",
       "        vertical-align: top;\n",
       "    }\n",
       "\n",
       "    .dataframe thead th {\n",
       "        text-align: right;\n",
       "    }\n",
       "</style>\n",
       "<table border=\"1\" class=\"dataframe\">\n",
       "  <thead>\n",
       "    <tr style=\"text-align: right;\">\n",
       "      <th></th>\n",
       "      <th>id</th>\n",
       "      <th>Study Design</th>\n",
       "      <th>Conclusions</th>\n",
       "    </tr>\n",
       "  </thead>\n",
       "  <tbody>\n",
       "    <tr>\n",
       "      <th>0</th>\n",
       "      <td>1</td>\n",
       "      <td>964 inhabitants aged 85 years and over and 244...</td>\n",
       "      <td>Without correcting for multiple testing, HLA-D...</td>\n",
       "    </tr>\n",
       "    <tr>\n",
       "      <th>1</th>\n",
       "      <td>2</td>\n",
       "      <td>The apolipoprotein B Xba I polymorphism was ex...</td>\n",
       "      <td>The frequencies of the Xba I alleles among the...</td>\n",
       "    </tr>\n",
       "    <tr>\n",
       "      <th>2</th>\n",
       "      <td>3</td>\n",
       "      <td>964 inhabitants aged 85 years and over and 244...</td>\n",
       "      <td>Without correcting for multiple testing, HLA-B...</td>\n",
       "    </tr>\n",
       "    <tr>\n",
       "      <th>3</th>\n",
       "      <td>4</td>\n",
       "      <td>The Sst I polymorphism was examined in 179 Fin...</td>\n",
       "      <td>The S2 allele (Sst I restriction site present)...</td>\n",
       "    </tr>\n",
       "    <tr>\n",
       "      <th>4</th>\n",
       "      <td>5</td>\n",
       "      <td>The common polymorphism of apolipoprotein E (E...</td>\n",
       "      <td>The frequency of the E2 allele was higher and ...</td>\n",
       "    </tr>\n",
       "  </tbody>\n",
       "</table>\n",
       "</div>"
      ],
      "text/plain": [
       "  id                                       Study Design  \\\n",
       "0  1  964 inhabitants aged 85 years and over and 244...   \n",
       "1  2  The apolipoprotein B Xba I polymorphism was ex...   \n",
       "2  3  964 inhabitants aged 85 years and over and 244...   \n",
       "3  4  The Sst I polymorphism was examined in 179 Fin...   \n",
       "4  5  The common polymorphism of apolipoprotein E (E...   \n",
       "\n",
       "                                         Conclusions  \n",
       "0  Without correcting for multiple testing, HLA-D...  \n",
       "1  The frequencies of the Xba I alleles among the...  \n",
       "2  Without correcting for multiple testing, HLA-B...  \n",
       "3  The S2 allele (Sst I restriction site present)...  \n",
       "4  The frequency of the E2 allele was higher and ...  "
      ]
     },
     "execution_count": 19,
     "metadata": {},
     "output_type": "execute_result"
    }
   ],
   "source": [
    "#add conclusions\n",
    "odf['Conclusions'] = odf['id'].map(concl) \n",
    "odf['Conclusions'].str.strip()\n",
    "odf.head()"
   ]
  },
  {
   "cell_type": "code",
   "execution_count": 23,
   "id": "bb432fe0-1f22-4a4e-bb36-beeda4797ee2",
   "metadata": {},
   "outputs": [],
   "source": [
    "# save results together\n",
    "odf.to_csv(output / 'longevity_map_descriptions.csv', index=False, quoting=csv.QUOTE_NONNUMERIC)"
   ]
  }
 ],
 "metadata": {
  "kernelspec": {
   "display_name": "Python 3 (ipykernel)",
   "language": "python",
   "name": "python3"
  },
  "language_info": {
   "codemirror_mode": {
    "name": "ipython",
    "version": 3
   },
   "file_extension": ".py",
   "mimetype": "text/x-python",
   "name": "python",
   "nbconvert_exporter": "python",
   "pygments_lexer": "ipython3",
   "version": "3.9.9"
  }
 },
 "nbformat": 4,
 "nbformat_minor": 5
}
